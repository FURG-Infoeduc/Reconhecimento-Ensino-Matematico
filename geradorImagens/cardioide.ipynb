{
 "cells": [
  {
   "cell_type": "code",
   "execution_count": 3,
   "metadata": {},
   "outputs": [],
   "source": [
    "from matplotlib.pyplot import*;from numpy import*\n",
    "def R(M,S,U,r=range):\n",
    "    N=linspace\n",
    "    E='+'.join([str(y)+'*'+m for y,m in[q for i,g in zip(M,[[i+'*'+p for p in['1']+['x^%d'%p for p in r(1,len(M[0]))]]for i in['1']+['y^%d'%i for i in r(1,len(M))]])for q in zip(i,g)if q[0]]])\n",
    "    x,y=meshgrid(N(*S,200),N(*U,200))\n",
    "    contour(x,y,eval(E.replace('^','**')),0)\n",
    "    "
   ]
  },
  {
   "cell_type": "code",
   "execution_count": 4,
   "metadata": {},
   "outputs": [
    {
     "data": {
      "image/png": "[encoded data removed]",
      "text/plain": [
       "<Figure size 432x288 with 1 Axes>"
      ]
     },
     "metadata": {
      "needs_background": "light"
     },
     "output_type": "display_data"
    }
   ],
   "source": [
    "#X⁴+Y⁴+2X²Y²-4AX³-4AXY²-4A²Y²\n",
    "from matplotlib.pyplot import *\n",
    "import numpy as np\n",
    "from random import randint\n",
    "for i in range (20):\n",
    "    R([[0,0,0,-4,1],\n",
    "       [0,0,0,0,0],\n",
    "       [-4,-3,2,0,0],\n",
    "       [0,0,0,0,0],\n",
    "       [1,0,0,0,0]],\n",
    "        [-10,10],   [-10,10])"
   ]
  },
  {
   "cell_type": "code",
   "execution_count": 27,
   "metadata": {},
   "outputs": [
    {
     "data": {
      "image/png": "[encoded data removed]",
      "text/plain": [
       "<Figure size 432x288 with 1 Axes>"
      ]
     },
     "metadata": {
      "needs_background": "light"
     },
     "output_type": "display_data"
    }
   ],
   "source": [
    "from matplotlib.pyplot import *\n",
    "import numpy as np\n",
    "from random import randint\n",
    "\n",
    "from matplotlib.pyplot import*;from numpy import*\n",
    "\n",
    "def R(M,S,U, name,estilo,tamanho, r=range):\n",
    "    N=linspace\n",
    "    E='+'.join([str(y)+'*'+m for y,m in[q for i,g in zip(M,[[i+'*'+p for p in['1']+['x^%d'%p for p in r(1,len(M[0]))]]for i in['1']+['y^%d'%i for i in r(1,len(M))]])for q in zip(i,g)if q[0]]])\n",
    "    x,y=meshgrid(N(*S,200),N(*U,200))\n",
    "\n",
    "    \n",
    "    fig= figure()\n",
    "    axes=fig.add_subplot(111)\n",
    "    axes.autoscale()\n",
    "    axes.set_axis_off()\n",
    "    axes.contour(x,y,eval(E.replace('^','**')),0, linestyles = estilo, linewidths = tamanho)\n",
    "    axes.plot()\n",
    "    savefig(name)\n",
    "    \n",
    "    \n",
    "\n",
    "def cardioide(xi,xf,xa,xb,name, estilo, tamanho):\n",
    "    linhaStilos = ['solid', 'dashed', 'dashdot', 'dotted']\n",
    "    R([[0,0,0,xi,xa],\n",
    "    [0,0,0,0,0],\n",
    "    [xf,xb,2,0,0],\n",
    "    [0,0,0,0,0],\n",
    "    [1,0,0,0,0]],\n",
    "    [-10,10],[-10,10], name, linhaStilos[estilo], tamanho)\n",
    "    \n",
    "\n",
    "for c in range(1):\n",
    "    cardioide(random.uniform(-6,-4),random.uniform(-7,-4),random.uniform(1,2), random.uniform(-4,-1),str(c), randint(0,3), randint(1,5))"
   ]
  },
  {
   "cell_type": "code",
   "execution_count": null,
   "metadata": {},
   "outputs": [],
   "source": []
  }
 ],
 "metadata": {
  "kernelspec": {
   "display_name": "Python 3",
   "language": "python",
   "name": "python3"
  },
  "language_info": {
   "codemirror_mode": {
    "name": "ipython",
    "version": 3
   },
   "file_extension": ".py",
   "mimetype": "text/x-python",
   "name": "python",
   "nbconvert_exporter": "python",
   "pygments_lexer": "ipython3",
   "version": "3.7.4"
  }
 },
 "nbformat": 4,
 "nbformat_minor": 2
}
