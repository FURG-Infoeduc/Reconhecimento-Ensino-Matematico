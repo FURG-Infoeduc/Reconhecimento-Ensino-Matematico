{
 "cells": [
  {
   "cell_type": "code",
   "execution_count": 1,
   "metadata": {},
   "outputs": [],
   "source": [
    "from matplotlib.pyplot import *\n",
    "import numpy as np\n",
    "from random import randint\n",
    "\n",
    "from matplotlib.pyplot import*;from numpy import*\n",
    "\n",
    "def R(M,S,U, name,estilo,tamanho, r=range):\n",
    "    N=linspace\n",
    "    E='+'.join([str(y)+'*'+m for y,m in[q for i,g in zip(M,[[i+'*'+p for p in['1']+['x^%d'%p for p in r(1,len(M[0]))]]for i in['1']+['y^%d'%i for i in r(1,len(M))]])for q in zip(i,g)if q[0]]])\n",
    "    x,y=meshgrid(N(*S,200),N(*U,200))\n",
    "\n",
    "    \n",
    "    fig= figure()\n",
    "    axes=fig.add_subplot(111)\n",
    "    axes.autoscale()\n",
    "    axes.set_axis_off()\n",
    "    axes.contour(x,y,eval(E.replace('^','**')),0, linestyles = estilo, linewidths = tamanho)\n",
    "    axes.plot()\n",
    "    savefig(name)"
   ]
  },
  {
   "cell_type": "code",
   "execution_count": 27,
   "metadata": {},
   "outputs": [
    {
     "data": {
      "image/png": "[encoded data removed]",
      "text/plain": [
       "<Figure size 432x288 with 1 Axes>"
      ]
     },
     "metadata": {
      "needs_background": "light"
     },
     "output_type": "display_data"
    }
   ],
   "source": [
    "#Errado\n",
    "def cayley_sextic(xi,xf,xa,xb,name, estilo, tamanho):\n",
    "    linhaStilos = ['solid', 'dashed', 'dashdot', 'dotted']\n",
    "    R([[0,0,0,-4,-15,-12,4],\n",
    "       [0,0,0,0,0,0,0],\n",
    "       [0,0,-42,-24,12,0,0],\n",
    "       [0,-12,0,0,0,0,0],\n",
    "       [-27,0,12,0,0,0,0],\n",
    "       [0,0,0,0,0,0,0],\n",
    "       [4,0,0,0,0,0,0],\n",
    "      ],\n",
    "    [-10,10],[-10,10], name, linhaStilos[estilo], tamanho)\n",
    "    \n",
    "\n",
    "for c in range(1):\n",
    "    cayley_sextic(random.uniform(-6,-4),random.uniform(-7,-4),random.uniform(1,2), random.uniform(-4,-1),str(c), randint(0,3), randint(1,5))"
   ]
  },
  {
   "cell_type": "code",
   "execution_count": null,
   "metadata": {},
   "outputs": [],
   "source": []
  }
 ],
 "metadata": {
  "kernelspec": {
   "display_name": "Python 3",
   "language": "python",
   "name": "python3"
  },
  "language_info": {
   "codemirror_mode": {
    "name": "ipython",
    "version": 3
   },
   "file_extension": ".py",
   "mimetype": "text/x-python",
   "name": "python",
   "nbconvert_exporter": "python",
   "pygments_lexer": "ipython3",
   "version": "3.7.6"
  }
 },
 "nbformat": 4,
 "nbformat_minor": 4
}
