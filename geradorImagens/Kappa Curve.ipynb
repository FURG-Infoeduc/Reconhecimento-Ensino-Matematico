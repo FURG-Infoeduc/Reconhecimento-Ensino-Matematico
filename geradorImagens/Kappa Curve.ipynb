{
 "cells": [
  {
   "cell_type": "code",
   "execution_count": 1,
   "metadata": {},
   "outputs": [
    {
     "name": "stderr",
     "output_type": "stream",
     "text": [
      "/home/lab15/anaconda3/lib/python3.7/site-packages/matplotlib/pyplot.py:522: RuntimeWarning: More than 20 figures have been opened. Figures created through the pyplot interface (`matplotlib.pyplot.figure`) are retained until explicitly closed and may consume too much memory. (To control this warning, see the rcParam `figure.max_open_warning`).\n",
      "  max_open_warning, RuntimeWarning)\n"
     ]
    }
   ],
   "source": [
    "from matplotlib.pyplot import *\n",
    "import numpy as np\n",
    "from random import randint\n",
    "\n",
    "from matplotlib.pyplot import*;from numpy import*\n",
    "\n",
    "def R(M,S,U, name,estilo,tamanho, r=range):\n",
    "    N=linspace\n",
    "    E='+'.join([str(y)+'*'+m for y,m in[q for i,g in zip(M,[[i+'*'+p for p in['1']+['x^%d'%p for p in r(1,len(M[0]))]]for i in['1']+['y^%d'%i for i in r(1,len(M))]])for q in zip(i,g)if q[0]]])\n",
    "    x,y=meshgrid(N(*S,200),N(*U,200))\n",
    "\n",
    "    \n",
    "    fig= figure()\n",
    "    axes=fig.add_subplot(111)\n",
    "    axes.autoscale()\n",
    "    axes.set_axis_off()\n",
    "    axes.contour(x,y,eval(E.replace('^','**')),0, linestyles = estilo, linewidths = tamanho)\n",
    "    axes.plot()\n",
    "    savefig(name)\n",
    "        \n",
    "def kappacurve(x1,x2,x3,x4,x5,name, estilo, tamanho):\n",
    "    linhaStilos = ['solid', 'dashed', 'dashdot', 'dotted']\n",
    "    R([[0,0,x1,0,0],\n",
    "       [0,0,0,0,0],\n",
    "       [x2,0,x3,0,0],\n",
    "       [0,x4,0,0,0],\n",
    "       [x5,0,0,0,0]],\n",
    "        [-10,10],   [-10,10],name, linhaStilos[estilo], tamanho)\n",
    "    \n",
    "\n",
    "for c in range(2382):\n",
    "    kappacurve(random.uniform(-20,-1),random.uniform(0,2),random.uniform(0,10), random.uniform(-1,1),random.uniform(1,10),str(c), randint(0,3), randint(1,5))"
   ]
  }
 ],
 "metadata": {
  "kernelspec": {
   "display_name": "Python 3",
   "language": "python",
   "name": "python3"
  },
  "language_info": {
   "codemirror_mode": {
    "name": "ipython",
    "version": 3
   },
   "file_extension": ".py",
   "mimetype": "text/x-python",
   "name": "python",
   "nbconvert_exporter": "python",
   "pygments_lexer": "ipython3",
   "version": "3.7.6"
  }
 },
 "nbformat": 4,
 "nbformat_minor": 4
}
