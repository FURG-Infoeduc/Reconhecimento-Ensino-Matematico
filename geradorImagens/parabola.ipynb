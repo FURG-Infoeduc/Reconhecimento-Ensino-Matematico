{
 "cells": [
  {
   "cell_type": "code",
   "execution_count": 1,
   "metadata": {},
   "outputs": [
    {
     "name": "stderr",
     "output_type": "stream",
     "text": [
      "/home/joelson/anaconda3/envs/teste/lib/python3.6/site-packages/matplotlib/pyplot.py:514: RuntimeWarning: More than 20 figures have been opened. Figures created through the pyplot interface (`matplotlib.pyplot.figure`) are retained until explicitly closed and may consume too much memory. (To control this warning, see the rcParam `figure.max_open_warning`).\n",
      "  max_open_warning, RuntimeWarning)\n"
     ]
    }
   ],
   "source": [
    "from matplotlib.pyplot import *\n",
    "import numpy as np\n",
    "from random import randint\n",
    "\n",
    "def parabola(xi,xf,p):\n",
    "    a=[]\n",
    "    b=[]\n",
    "    # y=0\n",
    "    # x=-50\n",
    "\n",
    "    for x in range(-xi,xf,1):\n",
    "        y=x**2+2*x+2\n",
    "        a.append(x)\n",
    "        b.append(y)\n",
    "        #x= x+1\n",
    "\n",
    "    fig= figure()\n",
    "    axes=fig.add_subplot(111)\n",
    "    axes.autoscale()\n",
    "    axes.set_axis_off()\n",
    "    axes.plot(a,b)\n",
    "    savefig(p)\n",
    "    \n",
    "for c in range(595):\n",
    "    parabola(randint(0,100),randint(0,100), str(c))"
   ]
  },
  {
   "cell_type": "code",
   "execution_count": null,
   "metadata": {},
   "outputs": [],
   "source": []
  }
 ],
 "metadata": {
  "kernelspec": {
   "display_name": "Python 3",
   "language": "python",
   "name": "python3"
  },
  "language_info": {
   "codemirror_mode": {
    "name": "ipython",
    "version": 3
   },
   "file_extension": ".py",
   "mimetype": "text/x-python",
   "name": "python",
   "nbconvert_exporter": "python",
   "pygments_lexer": "ipython3",
   "version": "3.6.8"
  }
 },
 "nbformat": 4,
 "nbformat_minor": 2
}
