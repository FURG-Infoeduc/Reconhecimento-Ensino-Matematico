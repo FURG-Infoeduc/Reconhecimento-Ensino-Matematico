{
 "cells": [
  {
   "cell_type": "code",
   "execution_count": 1,
   "metadata": {},
   "outputs": [
    {
     "name": "stderr",
     "output_type": "stream",
     "text": [
      "Using TensorFlow backend.\n",
      "/home/lab15/anaconda3/envs/old/lib/python3.7/site-packages/tensorflow/python/framework/dtypes.py:526: FutureWarning: Passing (type, 1) or '1type' as a synonym of type is deprecated; in a future version of numpy, it will be understood as (type, (1,)) / '(1,)type'.\n",
      "  _np_qint8 = np.dtype([(\"qint8\", np.int8, 1)])\n",
      "/home/lab15/anaconda3/envs/old/lib/python3.7/site-packages/tensorflow/python/framework/dtypes.py:527: FutureWarning: Passing (type, 1) or '1type' as a synonym of type is deprecated; in a future version of numpy, it will be understood as (type, (1,)) / '(1,)type'.\n",
      "  _np_quint8 = np.dtype([(\"quint8\", np.uint8, 1)])\n",
      "/home/lab15/anaconda3/envs/old/lib/python3.7/site-packages/tensorflow/python/framework/dtypes.py:528: FutureWarning: Passing (type, 1) or '1type' as a synonym of type is deprecated; in a future version of numpy, it will be understood as (type, (1,)) / '(1,)type'.\n",
      "  _np_qint16 = np.dtype([(\"qint16\", np.int16, 1)])\n",
      "/home/lab15/anaconda3/envs/old/lib/python3.7/site-packages/tensorflow/python/framework/dtypes.py:529: FutureWarning: Passing (type, 1) or '1type' as a synonym of type is deprecated; in a future version of numpy, it will be understood as (type, (1,)) / '(1,)type'.\n",
      "  _np_quint16 = np.dtype([(\"quint16\", np.uint16, 1)])\n",
      "/home/lab15/anaconda3/envs/old/lib/python3.7/site-packages/tensorflow/python/framework/dtypes.py:530: FutureWarning: Passing (type, 1) or '1type' as a synonym of type is deprecated; in a future version of numpy, it will be understood as (type, (1,)) / '(1,)type'.\n",
      "  _np_qint32 = np.dtype([(\"qint32\", np.int32, 1)])\n",
      "/home/lab15/anaconda3/envs/old/lib/python3.7/site-packages/tensorflow/python/framework/dtypes.py:535: FutureWarning: Passing (type, 1) or '1type' as a synonym of type is deprecated; in a future version of numpy, it will be understood as (type, (1,)) / '(1,)type'.\n",
      "  np_resource = np.dtype([(\"resource\", np.ubyte, 1)])\n"
     ]
    },
    {
     "data": {
      "text/plain": [
       "['/job:localhost/replica:0/task:0/device:GPU:0']"
      ]
     },
     "execution_count": 1,
     "metadata": {},
     "output_type": "execute_result"
    }
   ],
   "source": [
    "from keras.preprocessing.image import ImageDataGenerator\n",
    "\n",
    "from tensorflow.keras.callbacks import TensorBoard, EarlyStopping, ModelCheckpoint\n",
    "\n",
    "from keras.applications import VGG16\n",
    "from keras.optimizers import SGD\n",
    "from keras.layers import Dense,GlobalAveragePooling2D\n",
    "\n",
    "from keras.models import Model\n",
    "\n",
    "import matplotlib.pyplot as plt\n",
    "import numpy as np\n",
    "from sklearn.metrics import confusion_matrix\n",
    "import itertools\n",
    "\n",
    "from keras import backend as K\n",
    "K.tensorflow_backend._get_available_gpus()"
   ]
  },
  {
   "cell_type": "code",
   "execution_count": 2,
   "metadata": {},
   "outputs": [
    {
     "name": "stdout",
     "output_type": "stream",
     "text": [
      "Found 14286 images belonging to 6 classes.\n",
      "Found 4464 images belonging to 6 classes.\n",
      "Found 3570 images belonging to 6 classes.\n"
     ]
    }
   ],
   "source": [
    "train_datagen = ImageDataGenerator(\n",
    "                rescale= 1./255,\n",
    "                featurewise_center=False,  # set input mean to 0 over the dataset\n",
    "                samplewise_center=False,  # set each sample mean to 0\n",
    "                featurewise_std_normalization=False,  # divide inputs by std of the dataset\n",
    "                samplewise_std_normalization=False,  # divide each input by its std\n",
    "                zca_whitening=False,  # apply ZCA whitening\n",
    "                rotation_range=10,  # randomly rotate images in the range (degrees, 0 to 180)\n",
    "                zoom_range = 0.1, # Randomly zoom image \n",
    "                width_shift_range=0.1,  # randomly shift images horizontally (fraction of total width)\n",
    "                height_shift_range=0.1,  # randomly shift images vertically (fraction of total height)\n",
    "                horizontal_flip=False,  # randomly flip images\n",
    "                vertical_flip=False)\n",
    "\n",
    "test_datagem = ImageDataGenerator(rescale=1./255)\n",
    "\n",
    "train_generator = train_datagen.flow_from_directory(\n",
    "                    'data/train',\n",
    "                    target_size = (224, 224),\n",
    "                    batch_size = 128,\n",
    "                    class_mode = 'categorical')\n",
    "\n",
    "validation_generator = test_datagem.flow_from_directory(\n",
    "                    'data/validation',\n",
    "                    target_size = (224, 224),\n",
    "                    batch_size = 128,\n",
    "                    class_mode = 'categorical')\n",
    "\n",
    "teste_generator = test_datagem.flow_from_directory(\n",
    "                    'data/teste/',\n",
    "                    target_size = (224, 224),\n",
    "                    batch_size = 2976,\n",
    "                    class_mode = 'categorical')"
   ]
  },
  {
   "cell_type": "code",
   "execution_count": 3,
   "metadata": {},
   "outputs": [],
   "source": [
    "name = \"testeSGD\"\n",
    "tensorbord = TensorBoard(log_dir='logs/{}'.format(name))\n",
    "stop = EarlyStopping(monitor='val_loss', mode='min', verbose=1, patience=10)\n",
    "# define checkpoints\n",
    "checkpoint = ModelCheckpoint('best_model.h5', monitor='val_acc', mode='max', verbose=1, save_best_only=True)"
   ]
  },
  {
   "cell_type": "code",
   "execution_count": 8,
   "metadata": {},
   "outputs": [],
   "source": [
    "base_model=VGG16(weights='imagenet',include_top=False) #imports the VGG16 model and discards the last 1000 neuron layer.\n",
    "\n",
    "x=base_model.output\n",
    "x=GlobalAveragePooling2D()(x)\n",
    "x=Dense(1024,activation='relu')(x) #we add dense layers so that the model can learn more complex functions and classify for better results.\n",
    "x=Dense(1024,activation='relu')(x) #dense layer 2\n",
    "x=Dense(512,activation='relu')(x) #dense layer 3\n",
    "preds=Dense(6,activation='softmax')(x) #final layer with softmax activation"
   ]
  },
  {
   "cell_type": "code",
   "execution_count": 9,
   "metadata": {},
   "outputs": [],
   "source": [
    "model=Model(inputs=base_model.input,outputs=preds)\n",
    "\n",
    "for layer in model.layers[:20]:\n",
    "    layer.trainable=False\n",
    "for layer in model.layers[20:]:\n",
    "    layer.trainable=True"
   ]
  },
  {
   "cell_type": "code",
   "execution_count": 10,
   "metadata": {},
   "outputs": [],
   "source": [
    "epochs = 50\n",
    "sgd = SGD(lr=0.0001, momentum=0.9, decay=1e-2/epochs)\n",
    "\n",
    "model.compile(optimizer= sgd,loss='categorical_crossentropy',metrics=['accuracy'])\n"
   ]
  },
  {
   "cell_type": "code",
   "execution_count": 11,
   "metadata": {},
   "outputs": [
    {
     "name": "stdout",
     "output_type": "stream",
     "text": [
      "Epoch 1/50\n",
      "93/93 [==============================] - 90s 968ms/step - loss: 1.7432 - acc: 0.2752 - val_loss: 1.6764 - val_acc: 0.6658\n",
      "\n",
      "Epoch 00001: val_acc improved from -inf to 0.66576, saving model to best_model.h5\n",
      "Epoch 2/50\n",
      "93/93 [==============================] - 82s 882ms/step - loss: 1.6461 - acc: 0.8710 - val_loss: 1.6055 - val_acc: 0.9997\n",
      "\n",
      "Epoch 00002: val_acc improved from 0.66576 to 0.99966, saving model to best_model.h5\n",
      "Epoch 3/50\n",
      "93/93 [==============================] - 77s 827ms/step - loss: 1.5863 - acc: 0.9919 - val_loss: 1.5463 - val_acc: 0.9980\n",
      "\n",
      "Epoch 00003: val_acc did not improve from 0.99966\n",
      "Epoch 4/50\n",
      "93/93 [==============================] - 80s 857ms/step - loss: 1.5305 - acc: 0.9907 - val_loss: 1.4903 - val_acc: 0.9990\n",
      "\n",
      "Epoch 00004: val_acc did not improve from 0.99966\n",
      "Epoch 5/50\n",
      "93/93 [==============================] - 79s 853ms/step - loss: 1.4782 - acc: 0.9921 - val_loss: 1.4363 - val_acc: 0.9966\n",
      "\n",
      "Epoch 00005: val_acc did not improve from 0.99966\n",
      "Epoch 6/50\n",
      "93/93 [==============================] - 79s 852ms/step - loss: 1.4274 - acc: 0.9976 - val_loss: 1.3863 - val_acc: 0.9990\n",
      "\n",
      "Epoch 00006: val_acc did not improve from 0.99966\n",
      "Epoch 7/50\n",
      "93/93 [==============================] - 80s 860ms/step - loss: 1.3769 - acc: 0.9983 - val_loss: 1.3301 - val_acc: 0.9963\n",
      "\n",
      "Epoch 00007: val_acc did not improve from 0.99966\n",
      "Epoch 8/50\n",
      "93/93 [==============================] - 79s 850ms/step - loss: 1.3242 - acc: 0.9988 - val_loss: 1.2821 - val_acc: 0.9993\n",
      "\n",
      "Epoch 00008: val_acc did not improve from 0.99966\n",
      "Epoch 9/50\n",
      "93/93 [==============================] - 80s 858ms/step - loss: 1.2724 - acc: 0.9994 - val_loss: 1.2228 - val_acc: 0.9997\n",
      "\n",
      "Epoch 00009: val_acc did not improve from 0.99966\n",
      "Epoch 10/50\n",
      "93/93 [==============================] - 80s 857ms/step - loss: 1.2188 - acc: 0.9996 - val_loss: 1.1696 - val_acc: 0.9986\n",
      "\n",
      "Epoch 00010: val_acc did not improve from 0.99966\n",
      "Epoch 11/50\n",
      "93/93 [==============================] - 80s 856ms/step - loss: 1.1677 - acc: 1.0000 - val_loss: 1.1129 - val_acc: 1.0000\n",
      "\n",
      "Epoch 00011: val_acc improved from 0.99966 to 1.00000, saving model to best_model.h5\n",
      "Epoch 12/50\n",
      "93/93 [==============================] - 79s 852ms/step - loss: 1.1142 - acc: 0.9999 - val_loss: 1.0726 - val_acc: 0.9990\n",
      "\n",
      "Epoch 00012: val_acc did not improve from 1.00000\n",
      "Epoch 13/50\n",
      "93/93 [==============================] - 80s 857ms/step - loss: 1.0634 - acc: 0.9996 - val_loss: 1.0112 - val_acc: 1.0000\n",
      "\n",
      "Epoch 00013: val_acc did not improve from 1.00000\n",
      "Epoch 14/50\n",
      "93/93 [==============================] - 80s 857ms/step - loss: 1.0109 - acc: 0.9982 - val_loss: 0.9571 - val_acc: 0.9993\n",
      "\n",
      "Epoch 00014: val_acc did not improve from 1.00000\n",
      "Epoch 15/50\n",
      "93/93 [==============================] - 80s 856ms/step - loss: 0.9638 - acc: 0.9995 - val_loss: 0.9123 - val_acc: 0.9997\n",
      "\n",
      "Epoch 00015: val_acc did not improve from 1.00000\n",
      "Epoch 16/50\n",
      "93/93 [==============================] - 80s 856ms/step - loss: 0.9207 - acc: 0.9993 - val_loss: 0.8676 - val_acc: 0.9997\n",
      "\n",
      "Epoch 00016: val_acc did not improve from 1.00000\n",
      "Epoch 17/50\n",
      "93/93 [==============================] - 80s 855ms/step - loss: 0.8699 - acc: 0.9997 - val_loss: 0.8288 - val_acc: 1.0000\n",
      "\n",
      "Epoch 00017: val_acc did not improve from 1.00000\n",
      "Epoch 18/50\n",
      "93/93 [==============================] - 80s 859ms/step - loss: 0.8277 - acc: 0.9997 - val_loss: 0.7806 - val_acc: 0.9990\n",
      "\n",
      "Epoch 00018: val_acc did not improve from 1.00000\n",
      "Epoch 19/50\n",
      "93/93 [==============================] - 80s 856ms/step - loss: 0.7891 - acc: 0.9979 - val_loss: 0.7436 - val_acc: 1.0000\n",
      "\n",
      "Epoch 00019: val_acc did not improve from 1.00000\n",
      "Epoch 20/50\n",
      "93/93 [==============================] - 80s 855ms/step - loss: 0.7556 - acc: 0.9996 - val_loss: 0.7116 - val_acc: 0.9993\n",
      "\n",
      "Epoch 00020: val_acc did not improve from 1.00000\n",
      "Epoch 21/50\n",
      "93/93 [==============================] - 80s 857ms/step - loss: 0.7146 - acc: 0.9998 - val_loss: 0.6753 - val_acc: 1.0000\n",
      "\n",
      "Epoch 00021: val_acc did not improve from 1.00000\n",
      "Epoch 22/50\n",
      "93/93 [==============================] - 79s 854ms/step - loss: 0.6841 - acc: 0.9998 - val_loss: 0.6412 - val_acc: 0.9993\n",
      "\n",
      "Epoch 00022: val_acc did not improve from 1.00000\n",
      "Epoch 23/50\n",
      "93/93 [==============================] - 80s 855ms/step - loss: 0.6563 - acc: 0.9986 - val_loss: 0.6186 - val_acc: 1.0000\n",
      "\n",
      "Epoch 00023: val_acc did not improve from 1.00000\n",
      "Epoch 24/50\n",
      "93/93 [==============================] - 80s 856ms/step - loss: 0.6278 - acc: 0.9999 - val_loss: 0.5907 - val_acc: 0.9997\n",
      "\n",
      "Epoch 00024: val_acc did not improve from 1.00000\n",
      "Epoch 25/50\n",
      "93/93 [==============================] - 80s 857ms/step - loss: 0.5980 - acc: 0.9997 - val_loss: 0.5589 - val_acc: 1.0000\n",
      "\n",
      "Epoch 00025: val_acc did not improve from 1.00000\n",
      "Epoch 26/50\n",
      "93/93 [==============================] - 80s 860ms/step - loss: 0.5744 - acc: 0.9998 - val_loss: 0.5472 - val_acc: 0.9993\n",
      "\n",
      "Epoch 00026: val_acc did not improve from 1.00000\n",
      "Epoch 27/50\n",
      "93/93 [==============================] - 80s 856ms/step - loss: 0.5525 - acc: 0.9998 - val_loss: 0.5177 - val_acc: 1.0000\n",
      "\n",
      "Epoch 00027: val_acc did not improve from 1.00000\n",
      "Epoch 28/50\n",
      "93/93 [==============================] - 80s 857ms/step - loss: 0.5309 - acc: 1.0000 - val_loss: 0.5008 - val_acc: 1.0000\n",
      "\n",
      "Epoch 00028: val_acc did not improve from 1.00000\n",
      "Epoch 29/50\n",
      "93/93 [==============================] - 80s 857ms/step - loss: 0.5105 - acc: 1.0000 - val_loss: 0.4791 - val_acc: 0.9993\n",
      "\n",
      "Epoch 00029: val_acc did not improve from 1.00000\n",
      "Epoch 30/50\n",
      "93/93 [==============================] - 80s 860ms/step - loss: 0.4907 - acc: 0.9999 - val_loss: 0.4616 - val_acc: 1.0000\n",
      "\n",
      "Epoch 00030: val_acc did not improve from 1.00000\n",
      "Epoch 31/50\n",
      "93/93 [==============================] - 80s 855ms/step - loss: 0.4720 - acc: 0.9999 - val_loss: 0.4426 - val_acc: 0.9997\n",
      "\n",
      "Epoch 00031: val_acc did not improve from 1.00000\n",
      "Epoch 32/50\n",
      "93/93 [==============================] - 80s 855ms/step - loss: 0.4596 - acc: 0.9999 - val_loss: 0.4362 - val_acc: 0.9997\n",
      "\n",
      "Epoch 00032: val_acc did not improve from 1.00000\n",
      "Epoch 33/50\n",
      "93/93 [==============================] - 80s 857ms/step - loss: 0.4425 - acc: 0.9999 - val_loss: 0.4167 - val_acc: 1.0000\n",
      "\n",
      "Epoch 00033: val_acc did not improve from 1.00000\n",
      "Epoch 34/50\n",
      "93/93 [==============================] - 79s 854ms/step - loss: 0.4264 - acc: 1.0000 - val_loss: 0.4044 - val_acc: 0.9993\n",
      "\n",
      "Epoch 00034: val_acc did not improve from 1.00000\n",
      "Epoch 35/50\n",
      "93/93 [==============================] - 79s 853ms/step - loss: 0.4136 - acc: 1.0000 - val_loss: 0.3862 - val_acc: 1.0000\n",
      "\n",
      "Epoch 00035: val_acc did not improve from 1.00000\n",
      "Epoch 36/50\n",
      "93/93 [==============================] - 80s 855ms/step - loss: 0.4007 - acc: 1.0000 - val_loss: 0.3808 - val_acc: 0.9993\n",
      "\n",
      "Epoch 00036: val_acc did not improve from 1.00000\n",
      "Epoch 37/50\n",
      "93/93 [==============================] - 79s 853ms/step - loss: 0.3893 - acc: 1.0000 - val_loss: 0.3680 - val_acc: 1.0000\n",
      "\n",
      "Epoch 00037: val_acc did not improve from 1.00000\n",
      "Epoch 38/50\n",
      "93/93 [==============================] - 80s 855ms/step - loss: 0.3790 - acc: 0.9999 - val_loss: 0.3534 - val_acc: 0.9990\n",
      "\n",
      "Epoch 00038: val_acc did not improve from 1.00000\n",
      "Epoch 39/50\n",
      "93/93 [==============================] - 80s 856ms/step - loss: 0.3667 - acc: 1.0000 - val_loss: 0.3464 - val_acc: 0.9997\n",
      "\n",
      "Epoch 00039: val_acc did not improve from 1.00000\n",
      "Epoch 40/50\n",
      "93/93 [==============================] - 80s 855ms/step - loss: 0.3567 - acc: 1.0000 - val_loss: 0.3371 - val_acc: 0.9993\n",
      "\n",
      "Epoch 00040: val_acc did not improve from 1.00000\n",
      "Epoch 41/50\n",
      "93/93 [==============================] - 80s 856ms/step - loss: 0.3468 - acc: 0.9998 - val_loss: 0.3263 - val_acc: 1.0000\n",
      "\n",
      "Epoch 00041: val_acc did not improve from 1.00000\n",
      "Epoch 42/50\n",
      "93/93 [==============================] - 80s 859ms/step - loss: 0.3372 - acc: 0.9999 - val_loss: 0.3225 - val_acc: 0.9993\n",
      "\n",
      "Epoch 00042: val_acc did not improve from 1.00000\n",
      "Epoch 43/50\n",
      "93/93 [==============================] - 79s 854ms/step - loss: 0.3305 - acc: 0.9999 - val_loss: 0.3078 - val_acc: 1.0000\n",
      "\n",
      "Epoch 00043: val_acc did not improve from 1.00000\n",
      "Epoch 44/50\n",
      "93/93 [==============================] - 79s 855ms/step - loss: 0.3209 - acc: 1.0000 - val_loss: 0.3068 - val_acc: 0.9993\n",
      "\n",
      "Epoch 00044: val_acc did not improve from 1.00000\n",
      "Epoch 45/50\n"
     ]
    },
    {
     "name": "stdout",
     "output_type": "stream",
     "text": [
      "93/93 [==============================] - 80s 856ms/step - loss: 0.3142 - acc: 0.9998 - val_loss: 0.2941 - val_acc: 0.9993\n",
      "\n",
      "Epoch 00045: val_acc did not improve from 1.00000\n",
      "Epoch 46/50\n",
      "93/93 [==============================] - 79s 853ms/step - loss: 0.3056 - acc: 1.0000 - val_loss: 0.2919 - val_acc: 0.9997\n",
      "\n",
      "Epoch 00046: val_acc did not improve from 1.00000\n",
      "Epoch 47/50\n",
      "93/93 [==============================] - 79s 848ms/step - loss: 0.2985 - acc: 1.0000 - val_loss: 0.2786 - val_acc: 0.9993\n",
      "\n",
      "Epoch 00047: val_acc did not improve from 1.00000\n",
      "Epoch 48/50\n",
      "93/93 [==============================] - 80s 857ms/step - loss: 0.2922 - acc: 1.0000 - val_loss: 0.2765 - val_acc: 0.9997\n",
      "\n",
      "Epoch 00048: val_acc did not improve from 1.00000\n",
      "Epoch 49/50\n",
      "93/93 [==============================] - 79s 851ms/step - loss: 0.2862 - acc: 1.0000 - val_loss: 0.2642 - val_acc: 0.9997\n",
      "\n",
      "Epoch 00049: val_acc did not improve from 1.00000\n",
      "Epoch 50/50\n",
      "93/93 [==============================] - 79s 854ms/step - loss: 0.2775 - acc: 0.9999 - val_loss: 0.2666 - val_acc: 0.9993\n",
      "\n",
      "Epoch 00050: val_acc did not improve from 1.00000\n"
     ]
    },
    {
     "data": {
      "text/plain": [
       "<keras.callbacks.History at 0x7f6dbc22cf50>"
      ]
     },
     "execution_count": 11,
     "metadata": {},
     "output_type": "execute_result"
    }
   ],
   "source": [
    "model.fit_generator(train_generator,\n",
    "                    epochs= epochs,\n",
    "                    steps_per_epoch = 93,\n",
    "                    validation_steps = 23,\n",
    "                    validation_data= validation_generator,\n",
    "                   callbacks=[tensorbord,stop, checkpoint])"
   ]
  },
  {
   "cell_type": "code",
   "execution_count": 12,
   "metadata": {},
   "outputs": [],
   "source": [
    "def plot_confusion_matrix(cm, classes,\n",
    "                          normalize=False,\n",
    "                          title='Confusion matrix',\n",
    "                          cmap=plt.cm.Blues):\n",
    "    \"\"\"\n",
    "    This function prints and plots the confusion matrix.\n",
    "    Normalization can be applied by setting `normalize=True`.\n",
    "    \"\"\"\n",
    "    plt.imshow(cm, interpolation='nearest', cmap=cmap)\n",
    "    plt.title(title)\n",
    "    plt.colorbar()\n",
    "    tick_marks = np.arange(len(classes))\n",
    "    plt.xticks(tick_marks, classes, rotation=45)\n",
    "    plt.yticks(tick_marks, classes)\n",
    "\n",
    "    if normalize:\n",
    "        cm = cm.astype('float') / cm.sum(axis=1)[:, np.newaxis]\n",
    "\n",
    "    thresh = cm.max() / 2.\n",
    "    for i, j in itertools.product(range(cm.shape[0]), range(cm.shape[1])):\n",
    "        plt.text(j, i, cm[i, j],\n",
    "                 horizontalalignment=\"center\",\n",
    "                 color=\"white\" if cm[i, j] > thresh else \"black\")\n",
    "\n",
    "    plt.tight_layout()\n",
    "    plt.ylabel('True label')\n",
    "    plt.xlabel('Predicted label')"
   ]
  },
  {
   "cell_type": "code",
   "execution_count": 13,
   "metadata": {},
   "outputs": [],
   "source": [
    "X = teste_generator.next()\n",
    "X_test = X[0]\n",
    "y_test = X[1]"
   ]
  },
  {
   "cell_type": "code",
   "execution_count": 23,
   "metadata": {},
   "outputs": [
    {
     "data": {
      "image/png": "[encoded data removed]",
      "text/plain": [
       "<Figure size 576x432 with 2 Axes>"
      ]
     },
     "metadata": {
      "needs_background": "light"
     },
     "output_type": "display_data"
    }
   ],
   "source": [
    "fig= plt.figure(figsize=(8,6))\n",
    "\n",
    "# Predict the values from the validation dataset\n",
    "Y_pred = model.predict(X_test)\n",
    "# Convert predictions classes to one hot vectors \n",
    "Y_pred_classes = np.argmax(Y_pred,axis = 1) \n",
    "# Convert validation observations to one hot vectors\n",
    "Y_true = np.argmax(y_test,axis = 1) \n",
    "# compute the confusion matrix\n",
    "confusion_mtx = confusion_matrix(Y_true, Y_pred_classes) \n",
    "# plot the confusion matrix\n",
    "plot_confusion_matrix(confusion_mtx, classes = range(6)) "
   ]
  },
  {
   "cell_type": "code",
   "execution_count": 26,
   "metadata": {},
   "outputs": [],
   "source": [
    "def acerto(confusion_matrix):\n",
    "    soma = 0\n",
    "    for i in range(len(confusion_matrix)):\n",
    "        soma += confusion_matrix[i][i]\n",
    "    return soma"
   ]
  },
  {
   "cell_type": "code",
   "execution_count": 27,
   "metadata": {},
   "outputs": [
    {
     "ename": "TypeError",
     "evalue": "object of type 'function' has no len()",
     "output_type": "error",
     "traceback": [
      "\u001b[0;31m---------------------------------------------------------------------------\u001b[0m",
      "\u001b[0;31mTypeError\u001b[0m                                 Traceback (most recent call last)",
      "\u001b[0;32m<ipython-input-27-009ae8fc6340>\u001b[0m in \u001b[0;36m<module>\u001b[0;34m\u001b[0m\n\u001b[0;32m----> 1\u001b[0;31m \u001b[0msoma_acerto\u001b[0m \u001b[0;34m=\u001b[0m \u001b[0macerto\u001b[0m\u001b[0;34m(\u001b[0m\u001b[0mconfusion_matrix\u001b[0m\u001b[0;34m)\u001b[0m\u001b[0;34m\u001b[0m\u001b[0;34m\u001b[0m\u001b[0m\n\u001b[0m\u001b[1;32m      2\u001b[0m \u001b[0msoma_erro\u001b[0m \u001b[0;34m=\u001b[0m \u001b[0mconfusion_mtx\u001b[0m\u001b[0;34m[\u001b[0m\u001b[0;36m0\u001b[0m\u001b[0;34m]\u001b[0m\u001b[0;34m[\u001b[0m\u001b[0;36m1\u001b[0m\u001b[0;34m]\u001b[0m\u001b[0;34m+\u001b[0m\u001b[0mconfusion_mtx\u001b[0m\u001b[0;34m[\u001b[0m\u001b[0;36m0\u001b[0m\u001b[0;34m]\u001b[0m\u001b[0;34m[\u001b[0m\u001b[0;36m2\u001b[0m\u001b[0;34m]\u001b[0m\u001b[0;34m+\u001b[0m \u001b[0mconfusion_mtx\u001b[0m\u001b[0;34m[\u001b[0m\u001b[0;36m1\u001b[0m\u001b[0;34m]\u001b[0m\u001b[0;34m[\u001b[0m\u001b[0;36m0\u001b[0m\u001b[0;34m]\u001b[0m\u001b[0;34m+\u001b[0m\u001b[0mconfusion_mtx\u001b[0m\u001b[0;34m[\u001b[0m\u001b[0;36m1\u001b[0m\u001b[0;34m]\u001b[0m\u001b[0;34m[\u001b[0m\u001b[0;36m2\u001b[0m\u001b[0;34m]\u001b[0m\u001b[0;34m+\u001b[0m\u001b[0mconfusion_mtx\u001b[0m\u001b[0;34m[\u001b[0m\u001b[0;36m2\u001b[0m\u001b[0;34m]\u001b[0m\u001b[0;34m[\u001b[0m\u001b[0;36m0\u001b[0m\u001b[0;34m]\u001b[0m\u001b[0;34m+\u001b[0m\u001b[0mconfusion_mtx\u001b[0m\u001b[0;34m[\u001b[0m\u001b[0;36m0\u001b[0m\u001b[0;34m]\u001b[0m\u001b[0;34m[\u001b[0m\u001b[0;36m1\u001b[0m\u001b[0;34m]\u001b[0m\u001b[0;34m\u001b[0m\u001b[0;34m\u001b[0m\u001b[0m\n\u001b[1;32m      3\u001b[0m \u001b[0mtotal\u001b[0m \u001b[0;34m=\u001b[0m \u001b[0mconfusion_mtx\u001b[0m\u001b[0;34m.\u001b[0m\u001b[0msum\u001b[0m\u001b[0;34m(\u001b[0m\u001b[0;34m)\u001b[0m\u001b[0;34m\u001b[0m\u001b[0;34m\u001b[0m\u001b[0m\n\u001b[1;32m      4\u001b[0m \u001b[0macc\u001b[0m \u001b[0;34m=\u001b[0m \u001b[0msoma_acerto\u001b[0m\u001b[0;34m/\u001b[0m\u001b[0mtotal\u001b[0m\u001b[0;34m\u001b[0m\u001b[0;34m\u001b[0m\u001b[0m\n\u001b[1;32m      5\u001b[0m \u001b[0merror\u001b[0m \u001b[0;34m=\u001b[0m \u001b[0msoma_erro\u001b[0m\u001b[0;34m/\u001b[0m\u001b[0mtotal\u001b[0m\u001b[0;34m\u001b[0m\u001b[0;34m\u001b[0m\u001b[0m\n",
      "\u001b[0;32m<ipython-input-26-cb525c6a96ea>\u001b[0m in \u001b[0;36macerto\u001b[0;34m(confusion_matrix)\u001b[0m\n\u001b[1;32m      1\u001b[0m \u001b[0;32mdef\u001b[0m \u001b[0macerto\u001b[0m\u001b[0;34m(\u001b[0m\u001b[0mconfusion_matrix\u001b[0m\u001b[0;34m)\u001b[0m\u001b[0;34m:\u001b[0m\u001b[0;34m\u001b[0m\u001b[0;34m\u001b[0m\u001b[0m\n\u001b[1;32m      2\u001b[0m     \u001b[0msoma\u001b[0m \u001b[0;34m=\u001b[0m \u001b[0;36m0\u001b[0m\u001b[0;34m\u001b[0m\u001b[0;34m\u001b[0m\u001b[0m\n\u001b[0;32m----> 3\u001b[0;31m     \u001b[0;32mfor\u001b[0m \u001b[0mi\u001b[0m \u001b[0;32min\u001b[0m \u001b[0mrange\u001b[0m\u001b[0;34m(\u001b[0m\u001b[0mlen\u001b[0m\u001b[0;34m(\u001b[0m\u001b[0mconfusion_matrix\u001b[0m\u001b[0;34m)\u001b[0m\u001b[0;34m)\u001b[0m\u001b[0;34m:\u001b[0m\u001b[0;34m\u001b[0m\u001b[0;34m\u001b[0m\u001b[0m\n\u001b[0m\u001b[1;32m      4\u001b[0m         \u001b[0msoma\u001b[0m \u001b[0;34m+=\u001b[0m \u001b[0mconfusion_matrix\u001b[0m\u001b[0;34m[\u001b[0m\u001b[0mi\u001b[0m\u001b[0;34m]\u001b[0m\u001b[0;34m[\u001b[0m\u001b[0mi\u001b[0m\u001b[0;34m]\u001b[0m\u001b[0;34m\u001b[0m\u001b[0;34m\u001b[0m\u001b[0m\n\u001b[1;32m      5\u001b[0m     \u001b[0;32mreturn\u001b[0m \u001b[0msoma\u001b[0m\u001b[0;34m\u001b[0m\u001b[0;34m\u001b[0m\u001b[0m\n",
      "\u001b[0;31mTypeError\u001b[0m: object of type 'function' has no len()"
     ]
    }
   ],
   "source": [
    "soma_acerto = acerto(confusion_matrix)\n",
    "soma_erro = confusion_mtx[0][1]+confusion_mtx[0][2]+ confusion_mtx[1][0]+confusion_mtx[1][2]+confusion_mtx[2][0]+confusion_mtx[0][1]\n",
    "total = confusion_mtx.sum()\n",
    "acc = soma_acerto/total\n",
    "error = soma_erro/total\n",
    "acc ,error"
   ]
  },
  {
   "cell_type": "code",
   "execution_count": null,
   "metadata": {},
   "outputs": [],
   "source": [
    "soma_acerto"
   ]
  }
 ],
 "metadata": {
  "kernelspec": {
   "display_name": "Python 3",
   "language": "python",
   "name": "python3"
  },
  "language_info": {
   "codemirror_mode": {
    "name": "ipython",
    "version": 3
   },
   "file_extension": ".py",
   "mimetype": "text/x-python",
   "name": "python",
   "nbconvert_exporter": "python",
   "pygments_lexer": "ipython3",
   "version": "3.7.6"
  }
 },
 "nbformat": 4,
 "nbformat_minor": 2
}
