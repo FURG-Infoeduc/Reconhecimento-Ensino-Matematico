{
 "cells": [
  {
   "cell_type": "code",
   "execution_count": 1,
   "metadata": {},
   "outputs": [
    {
     "name": "stderr",
     "output_type": "stream",
     "text": [
      "Using TensorFlow backend.\n"
     ]
    },
    {
     "data": {
      "text/plain": [
       "['/job:localhost/replica:0/task:0/device:GPU:0']"
      ]
     },
     "execution_count": 1,
     "metadata": {},
     "output_type": "execute_result"
    }
   ],
   "source": [
    "from keras.preprocessing.image import ImageDataGenerator\n",
    "\n",
    "from tensorflow.keras.callbacks import TensorBoard, EarlyStopping, ModelCheckpoint\n",
    "\n",
    "from keras.applications import VGG16\n",
    "from keras.optimizers import SGD\n",
    "from keras.layers import Dense,GlobalAveragePooling2D\n",
    "\n",
    "from keras.models import Model\n",
    "\n",
    "import matplotlib.pyplot as plt\n",
    "import numpy as np\n",
    "from sklearn.metrics import confusion_matrix\n",
    "import itertools\n",
    "\n",
    "from keras import backend as K\n",
    "K.tensorflow_backend._get_available_gpus()"
   ]
  },
  {
   "cell_type": "code",
   "execution_count": 2,
   "metadata": {},
   "outputs": [
    {
     "name": "stdout",
     "output_type": "stream",
     "text": [
      "Found 9524 images belonging to 4 classes.\n",
      "Found 2976 images belonging to 4 classes.\n",
      "Found 2380 images belonging to 4 classes.\n"
     ]
    }
   ],
   "source": [
    "train_datagen = ImageDataGenerator(\n",
    "                rescale= 1./255,\n",
    "                featurewise_center=False,  # set input mean to 0 over the dataset\n",
    "                samplewise_center=False,  # set each sample mean to 0\n",
    "                featurewise_std_normalization=False,  # divide inputs by std of the dataset\n",
    "                samplewise_std_normalization=False,  # divide each input by its std\n",
    "                zca_whitening=False,  # apply ZCA whitening\n",
    "                rotation_range=10,  # randomly rotate images in the range (degrees, 0 to 180)\n",
    "                zoom_range = 0.1, # Randomly zoom image \n",
    "                width_shift_range=0.1,  # randomly shift images horizontally (fraction of total width)\n",
    "                height_shift_range=0.1,  # randomly shift images vertically (fraction of total height)\n",
    "                horizontal_flip=False,  # randomly flip images\n",
    "                vertical_flip=False)\n",
    "\n",
    "test_datagem = ImageDataGenerator(rescale=1./255)\n",
    "\n",
    "train_generator = train_datagen.flow_from_directory(\n",
    "                    'data/train',\n",
    "                    target_size = (224, 224),\n",
    "                    batch_size = 128,\n",
    "                    class_mode = 'categorical')\n",
    "\n",
    "validation_generator = test_datagem.flow_from_directory(\n",
    "                    'data/validation',\n",
    "                    target_size = (224, 224),\n",
    "                    batch_size = 128,\n",
    "                    class_mode = 'categorical')\n",
    "\n",
    "teste_generator = test_datagem.flow_from_directory(\n",
    "                    'data/teste/',\n",
    "                    target_size = (224, 224),\n",
    "                    batch_size = 2976,\n",
    "                    class_mode = 'categorical')"
   ]
  },
  {
   "cell_type": "code",
   "execution_count": 3,
   "metadata": {},
   "outputs": [],
   "source": [
    "name = \"testeSGD\"\n",
    "tensorbord = TensorBoard(log_dir='logs/{}'.format(name))\n",
    "stop = EarlyStopping(monitor='val_loss', mode='min', verbose=1, patience=10)\n",
    "# define checkpoints\n",
    "checkpoint = ModelCheckpoint('best_model.h5', monitor='val_acc', mode='max', verbose=1, save_best_only=True)"
   ]
  },
  {
   "cell_type": "code",
   "execution_count": 4,
   "metadata": {},
   "outputs": [
    {
     "name": "stdout",
     "output_type": "stream",
     "text": [
      "WARNING:tensorflow:From /home/joelson/anaconda3/envs/teste/lib/python3.6/site-packages/tensorflow/python/framework/op_def_library.py:263: colocate_with (from tensorflow.python.framework.ops) is deprecated and will be removed in a future version.\n",
      "Instructions for updating:\n",
      "Colocations handled automatically by placer.\n"
     ]
    }
   ],
   "source": [
    "base_model=VGG16(weights='imagenet',include_top=False) #imports the VGG16 model and discards the last 1000 neuron layer.\n",
    "\n",
    "x=base_model.output\n",
    "x=GlobalAveragePooling2D()(x)\n",
    "x=Dense(1024,activation='relu')(x) #we add dense layers so that the model can learn more complex functions and classify for better results.\n",
    "x=Dense(1024,activation='relu')(x) #dense layer 2\n",
    "x=Dense(512,activation='relu')(x) #dense layer 3\n",
    "preds=Dense(4,activation='softmax')(x) #final layer with softmax activation"
   ]
  },
  {
   "cell_type": "code",
   "execution_count": 5,
   "metadata": {},
   "outputs": [],
   "source": [
    "model=Model(inputs=base_model.input,outputs=preds)\n",
    "\n",
    "for layer in model.layers[:20]:\n",
    "    layer.trainable=False\n",
    "for layer in model.layers[20:]:\n",
    "    layer.trainable=True"
   ]
  },
  {
   "cell_type": "code",
   "execution_count": 6,
   "metadata": {},
   "outputs": [],
   "source": [
    "epochs = 50\n",
    "sgd = SGD(lr=0.0001, momentum=0.9, decay=1e-2/epochs)\n",
    "\n",
    "model.compile(optimizer= sgd,loss='categorical_crossentropy',metrics=['accuracy'])\n"
   ]
  },
  {
   "cell_type": "code",
   "execution_count": 7,
   "metadata": {},
   "outputs": [
    {
     "name": "stdout",
     "output_type": "stream",
     "text": [
      "WARNING:tensorflow:From /home/joelson/anaconda3/envs/teste/lib/python3.6/site-packages/tensorflow/python/ops/math_ops.py:3066: to_int32 (from tensorflow.python.ops.math_ops) is deprecated and will be removed in a future version.\n",
      "Instructions for updating:\n",
      "Use tf.cast instead.\n",
      "Epoch 1/50\n",
      "93/93 [==============================] - 137s 1s/step - loss: 1.3192 - acc: 0.6128 - val_loss: 1.2537 - val_acc: 0.8614\n",
      "\n",
      "Epoch 00001: val_acc improved from -inf to 0.86141, saving model to best_model.h5\n",
      "Epoch 2/50\n",
      "93/93 [==============================] - 123s 1s/step - loss: 1.2161 - acc: 0.8969 - val_loss: 1.1780 - val_acc: 0.9228\n",
      "\n",
      "Epoch 00002: val_acc improved from 0.86141 to 0.92275, saving model to best_model.h5\n",
      "Epoch 3/50\n",
      "93/93 [==============================] - 123s 1s/step - loss: 1.1424 - acc: 0.9807 - val_loss: 1.1104 - val_acc: 0.9796\n",
      "\n",
      "Epoch 00003: val_acc improved from 0.92275 to 0.97963, saving model to best_model.h5\n",
      "Epoch 4/50\n",
      "93/93 [==============================] - 123s 1s/step - loss: 1.0813 - acc: 0.9615 - val_loss: 1.0511 - val_acc: 0.9986\n",
      "\n",
      "Epoch 00004: val_acc improved from 0.97963 to 0.99860, saving model to best_model.h5\n",
      "Epoch 5/50\n",
      "93/93 [==============================] - 124s 1s/step - loss: 1.0237 - acc: 0.9921 - val_loss: 0.9942 - val_acc: 0.9930\n",
      "\n",
      "Epoch 00005: val_acc did not improve from 0.99860\n",
      "Epoch 6/50\n",
      "93/93 [==============================] - 124s 1s/step - loss: 0.9644 - acc: 0.9845 - val_loss: 0.9377 - val_acc: 0.9975\n",
      "\n",
      "Epoch 00006: val_acc did not improve from 0.99860\n",
      "Epoch 7/50\n",
      "93/93 [==============================] - 123s 1s/step - loss: 0.9119 - acc: 0.9855 - val_loss: 0.8858 - val_acc: 0.9933\n",
      "\n",
      "Epoch 00007: val_acc did not improve from 0.99860\n",
      "Epoch 8/50\n",
      "93/93 [==============================] - 124s 1s/step - loss: 0.8610 - acc: 0.9935 - val_loss: 0.8362 - val_acc: 0.9979\n",
      "\n",
      "Epoch 00008: val_acc did not improve from 0.99860\n",
      "Epoch 9/50\n",
      "93/93 [==============================] - 123s 1s/step - loss: 0.8150 - acc: 0.9917 - val_loss: 0.7926 - val_acc: 0.9912\n",
      "\n",
      "Epoch 00009: val_acc did not improve from 0.99860\n",
      "Epoch 10/50\n",
      "93/93 [==============================] - 124s 1s/step - loss: 0.7725 - acc: 0.9958 - val_loss: 0.7529 - val_acc: 0.9986\n",
      "\n",
      "Epoch 00010: val_acc did not improve from 0.99860\n",
      "Epoch 11/50\n",
      "93/93 [==============================] - 124s 1s/step - loss: 0.7347 - acc: 0.9933 - val_loss: 0.7111 - val_acc: 0.9863\n",
      "\n",
      "Epoch 00011: val_acc did not improve from 0.99860\n",
      "Epoch 12/50\n",
      "93/93 [==============================] - 123s 1s/step - loss: 0.6934 - acc: 0.9955 - val_loss: 0.6778 - val_acc: 0.9979\n",
      "\n",
      "Epoch 00012: val_acc did not improve from 0.99860\n",
      "Epoch 13/50\n",
      "93/93 [==============================] - 123s 1s/step - loss: 0.6616 - acc: 0.9985 - val_loss: 0.6448 - val_acc: 0.9954\n",
      "\n",
      "Epoch 00013: val_acc did not improve from 0.99860\n",
      "Epoch 14/50\n",
      "93/93 [==============================] - 123s 1s/step - loss: 0.6306 - acc: 0.9982 - val_loss: 0.6138 - val_acc: 0.9982\n",
      "\n",
      "Epoch 00014: val_acc did not improve from 0.99860\n",
      "Epoch 15/50\n",
      "93/93 [==============================] - 122s 1s/step - loss: 0.6006 - acc: 0.9989 - val_loss: 0.5801 - val_acc: 0.9986\n",
      "\n",
      "Epoch 00015: val_acc did not improve from 0.99860\n",
      "Epoch 16/50\n",
      "93/93 [==============================] - 123s 1s/step - loss: 0.5730 - acc: 0.9992 - val_loss: 0.5656 - val_acc: 0.9989\n",
      "\n",
      "Epoch 00016: val_acc improved from 0.99860 to 0.99895, saving model to best_model.h5\n",
      "Epoch 17/50\n",
      "93/93 [==============================] - 121s 1s/step - loss: 0.5479 - acc: 0.9988 - val_loss: 0.5298 - val_acc: 0.9993\n",
      "\n",
      "Epoch 00017: val_acc improved from 0.99895 to 0.99930, saving model to best_model.h5\n",
      "Epoch 18/50\n",
      "93/93 [==============================] - 122s 1s/step - loss: 0.5241 - acc: 0.9989 - val_loss: 0.5193 - val_acc: 0.9975\n",
      "\n",
      "Epoch 00018: val_acc did not improve from 0.99930\n",
      "Epoch 19/50\n",
      "93/93 [==============================] - 124s 1s/step - loss: 0.5018 - acc: 0.9990 - val_loss: 0.4843 - val_acc: 0.9986\n",
      "\n",
      "Epoch 00019: val_acc did not improve from 0.99930\n",
      "Epoch 20/50\n",
      "93/93 [==============================] - 123s 1s/step - loss: 0.4824 - acc: 0.9972 - val_loss: 0.4783 - val_acc: 0.9975\n",
      "\n",
      "Epoch 00020: val_acc did not improve from 0.99930\n",
      "Epoch 21/50\n",
      "93/93 [==============================] - 123s 1s/step - loss: 0.4599 - acc: 0.9992 - val_loss: 0.4473 - val_acc: 0.9996\n",
      "\n",
      "Epoch 00021: val_acc improved from 0.99930 to 0.99965, saving model to best_model.h5\n",
      "Epoch 22/50\n",
      "93/93 [==============================] - 123s 1s/step - loss: 0.4455 - acc: 0.9980 - val_loss: 0.4334 - val_acc: 0.9947\n",
      "\n",
      "Epoch 00022: val_acc did not improve from 0.99965\n",
      "Epoch 23/50\n",
      "93/93 [==============================] - 123s 1s/step - loss: 0.4244 - acc: 0.9979 - val_loss: 0.4206 - val_acc: 0.9993\n",
      "\n",
      "Epoch 00023: val_acc did not improve from 0.99965\n",
      "Epoch 24/50\n",
      "93/93 [==============================] - 123s 1s/step - loss: 0.4143 - acc: 0.9971 - val_loss: 0.4014 - val_acc: 0.9993\n",
      "\n",
      "Epoch 00024: val_acc did not improve from 0.99965\n",
      "Epoch 25/50\n",
      "93/93 [==============================] - 123s 1s/step - loss: 0.3970 - acc: 0.9974 - val_loss: 0.3894 - val_acc: 0.9990\n",
      "\n",
      "Epoch 00025: val_acc did not improve from 0.99965\n",
      "Epoch 26/50\n",
      "93/93 [==============================] - 124s 1s/step - loss: 0.3833 - acc: 0.9986 - val_loss: 0.3778 - val_acc: 0.9961\n",
      "\n",
      "Epoch 00026: val_acc did not improve from 0.99965\n",
      "Epoch 27/50\n",
      "93/93 [==============================] - 124s 1s/step - loss: 0.3719 - acc: 0.9982 - val_loss: 0.3637 - val_acc: 0.9989\n",
      "\n",
      "Epoch 00027: val_acc did not improve from 0.99965\n",
      "Epoch 28/50\n",
      "93/93 [==============================] - 124s 1s/step - loss: 0.3591 - acc: 0.9980 - val_loss: 0.3496 - val_acc: 0.9993\n",
      "\n",
      "Epoch 00028: val_acc did not improve from 0.99965\n",
      "Epoch 29/50\n",
      "93/93 [==============================] - 123s 1s/step - loss: 0.3482 - acc: 0.9977 - val_loss: 0.3443 - val_acc: 0.9986\n",
      "\n",
      "Epoch 00029: val_acc did not improve from 0.99965\n",
      "Epoch 30/50\n",
      "93/93 [==============================] - 122s 1s/step - loss: 0.3372 - acc: 0.9982 - val_loss: 0.3346 - val_acc: 0.9986\n",
      "\n",
      "Epoch 00030: val_acc did not improve from 0.99965\n",
      "Epoch 31/50\n",
      "93/93 [==============================] - 123s 1s/step - loss: 0.3285 - acc: 0.9972 - val_loss: 0.3174 - val_acc: 0.9986\n",
      "\n",
      "Epoch 00031: val_acc did not improve from 0.99965\n",
      "Epoch 32/50\n",
      "93/93 [==============================] - 123s 1s/step - loss: 0.3200 - acc: 0.9985 - val_loss: 0.3141 - val_acc: 0.9996\n",
      "\n",
      "Epoch 00032: val_acc did not improve from 0.99965\n",
      "Epoch 33/50\n",
      "93/93 [==============================] - 123s 1s/step - loss: 0.3100 - acc: 0.9985 - val_loss: 0.3014 - val_acc: 0.9989\n",
      "\n",
      "Epoch 00033: val_acc did not improve from 0.99965\n",
      "Epoch 34/50\n",
      "93/93 [==============================] - 123s 1s/step - loss: 0.3003 - acc: 0.9981 - val_loss: 0.2971 - val_acc: 0.9996\n",
      "\n",
      "Epoch 00034: val_acc did not improve from 0.99965\n",
      "Epoch 35/50\n",
      "93/93 [==============================] - 124s 1s/step - loss: 0.2923 - acc: 0.9977 - val_loss: 0.2869 - val_acc: 0.9979\n",
      "\n",
      "Epoch 00035: val_acc did not improve from 0.99965\n",
      "Epoch 36/50\n",
      "93/93 [==============================] - 122s 1s/step - loss: 0.2863 - acc: 0.9988 - val_loss: 0.2813 - val_acc: 0.9989\n",
      "\n",
      "Epoch 00036: val_acc did not improve from 0.99965\n",
      "Epoch 37/50\n",
      "93/93 [==============================] - 124s 1s/step - loss: 0.2802 - acc: 0.9986 - val_loss: 0.2753 - val_acc: 0.9989\n",
      "\n",
      "Epoch 00037: val_acc did not improve from 0.99965\n",
      "Epoch 38/50\n",
      "93/93 [==============================] - 123s 1s/step - loss: 0.2690 - acc: 0.9984 - val_loss: 0.2663 - val_acc: 0.9993\n",
      "\n",
      "Epoch 00038: val_acc did not improve from 0.99965\n",
      "Epoch 39/50\n",
      "93/93 [==============================] - 124s 1s/step - loss: 0.2648 - acc: 0.9989 - val_loss: 0.2574 - val_acc: 0.9996\n",
      "\n",
      "Epoch 00039: val_acc did not improve from 0.99965\n",
      "Epoch 40/50\n",
      "93/93 [==============================] - 122s 1s/step - loss: 0.2582 - acc: 0.9986 - val_loss: 0.2535 - val_acc: 0.9993\n",
      "\n",
      "Epoch 00040: val_acc did not improve from 0.99965\n",
      "Epoch 41/50\n",
      "93/93 [==============================] - 123s 1s/step - loss: 0.2530 - acc: 0.9986 - val_loss: 0.2484 - val_acc: 0.9972\n",
      "\n",
      "Epoch 00041: val_acc did not improve from 0.99965\n",
      "Epoch 42/50\n",
      "93/93 [==============================] - 122s 1s/step - loss: 0.2451 - acc: 0.9990 - val_loss: 0.2443 - val_acc: 0.9989\n",
      "\n",
      "Epoch 00042: val_acc did not improve from 0.99965\n",
      "Epoch 43/50\n"
     ]
    },
    {
     "name": "stdout",
     "output_type": "stream",
     "text": [
      "93/93 [==============================] - 124s 1s/step - loss: 0.2400 - acc: 0.9992 - val_loss: 0.2343 - val_acc: 0.9993\n",
      "\n",
      "Epoch 00043: val_acc did not improve from 0.99965\n",
      "Epoch 44/50\n",
      "93/93 [==============================] - 123s 1s/step - loss: 0.2341 - acc: 0.9991 - val_loss: 0.2312 - val_acc: 1.0000\n",
      "\n",
      "Epoch 00044: val_acc improved from 0.99965 to 1.00000, saving model to best_model.h5\n",
      "Epoch 45/50\n",
      "93/93 [==============================] - 123s 1s/step - loss: 0.2306 - acc: 0.9985 - val_loss: 0.2256 - val_acc: 0.9996\n",
      "\n",
      "Epoch 00045: val_acc did not improve from 1.00000\n",
      "Epoch 46/50\n",
      "93/93 [==============================] - 120s 1s/step - loss: 0.2248 - acc: 0.9993 - val_loss: 0.2200 - val_acc: 0.9996\n",
      "\n",
      "Epoch 00046: val_acc did not improve from 1.00000\n",
      "Epoch 47/50\n",
      "93/93 [==============================] - 123s 1s/step - loss: 0.2195 - acc: 0.9995 - val_loss: 0.2164 - val_acc: 0.9972\n",
      "\n",
      "Epoch 00047: val_acc did not improve from 1.00000\n",
      "Epoch 48/50\n",
      "93/93 [==============================] - 122s 1s/step - loss: 0.2160 - acc: 0.9990 - val_loss: 0.2110 - val_acc: 0.9986\n",
      "\n",
      "Epoch 00048: val_acc did not improve from 1.00000\n",
      "Epoch 49/50\n",
      "93/93 [==============================] - 124s 1s/step - loss: 0.2098 - acc: 0.9992 - val_loss: 0.2065 - val_acc: 0.9993\n",
      "\n",
      "Epoch 00049: val_acc did not improve from 1.00000\n",
      "Epoch 50/50\n",
      "93/93 [==============================] - 123s 1s/step - loss: 0.2064 - acc: 0.9990 - val_loss: 0.2011 - val_acc: 0.9996\n",
      "\n",
      "Epoch 00050: val_acc did not improve from 1.00000\n"
     ]
    },
    {
     "data": {
      "text/plain": [
       "<keras.callbacks.History at 0x7ffa8bdc22b0>"
      ]
     },
     "execution_count": 7,
     "metadata": {},
     "output_type": "execute_result"
    }
   ],
   "source": [
    "model.fit_generator(train_generator,\n",
    "                    epochs= epochs,\n",
    "                    steps_per_epoch = 93,\n",
    "                    validation_steps = 23,\n",
    "                    validation_data= validation_generator,\n",
    "                   callbacks=[tensorbord,stop, checkpoint])"
   ]
  },
  {
   "cell_type": "code",
   "execution_count": 11,
   "metadata": {},
   "outputs": [],
   "source": [
    "def plot_confusion_matrix(cm, classes,\n",
    "                          normalize=False,\n",
    "                          title='Confusion matrix',\n",
    "                          cmap=plt.cm.Blues):\n",
    "    \"\"\"\n",
    "    This function prints and plots the confusion matrix.\n",
    "    Normalization can be applied by setting `normalize=True`.\n",
    "    \"\"\"\n",
    "    plt.imshow(cm, interpolation='nearest', cmap=cmap)\n",
    "    plt.title(title)\n",
    "    plt.colorbar()\n",
    "    tick_marks = np.arange(len(classes))\n",
    "    plt.xticks(tick_marks, classes, rotation=45)\n",
    "    plt.yticks(tick_marks, classes)\n",
    "\n",
    "    if normalize:\n",
    "        cm = cm.astype('float') / cm.sum(axis=1)[:, np.newaxis]\n",
    "\n",
    "    thresh = cm.max() / 2.\n",
    "    for i, j in itertools.product(range(cm.shape[0]), range(cm.shape[1])):\n",
    "        plt.text(j, i, cm[i, j],\n",
    "                 horizontalalignment=\"center\",\n",
    "                 color=\"white\" if cm[i, j] > thresh else \"black\")\n",
    "\n",
    "    plt.tight_layout()\n",
    "    plt.ylabel('True label')\n",
    "    plt.xlabel('Predicted label')"
   ]
  },
  {
   "cell_type": "code",
   "execution_count": 33,
   "metadata": {},
   "outputs": [],
   "source": [
    "X = teste_generator.next()\n",
    "X_test = X[0]\n",
    "y_test = X[1]"
   ]
  },
  {
   "cell_type": "code",
   "execution_count": 38,
   "metadata": {},
   "outputs": [
    {
     "data": {
      "image/png": "[encoded data removed]",
      "text/plain": [
       "<Figure size 432x288 with 2 Axes>"
      ]
     },
     "metadata": {
      "needs_background": "light"
     },
     "output_type": "display_data"
    }
   ],
   "source": [
    "# Predict the values from the validation dataset\n",
    "Y_pred = model.predict(X_test)\n",
    "# Convert predictions classes to one hot vectors \n",
    "Y_pred_classes = np.argmax(Y_pred,axis = 1) \n",
    "# Convert validation observations to one hot vectors\n",
    "Y_true = np.argmax(y_test,axis = 1) \n",
    "# compute the confusion matrix\n",
    "confusion_mtx = confusion_matrix(Y_true, Y_pred_classes) \n",
    "# plot the confusion matrix\n",
    "plot_confusion_matrix(confusion_mtx, classes = range(3)) "
   ]
  },
  {
   "cell_type": "code",
   "execution_count": 39,
   "metadata": {},
   "outputs": [
    {
     "data": {
      "text/plain": [
       "(0.7495798319327731, 0.0)"
      ]
     },
     "execution_count": 39,
     "metadata": {},
     "output_type": "execute_result"
    }
   ],
   "source": [
    "soma_acerto = confusion_mtx[0][0]+confusion_mtx[1][1]+confusion_mtx[2][2]\n",
    "soma_erro = confusion_mtx[0][1]+confusion_mtx[0][2]+ confusion_mtx[1][0]+confusion_mtx[1][2]+confusion_mtx[2][0]+confusion_mtx[0][1]\n",
    "total = confusion_mtx.sum()\n",
    "acc = soma_acerto/total\n",
    "error = soma_erro/total\n",
    "acc ,error"
   ]
  }
 ],
 "metadata": {
  "kernelspec": {
   "display_name": "Python 3",
   "language": "python",
   "name": "python3"
  },
  "language_info": {
   "codemirror_mode": {
    "name": "ipython",
    "version": 3
   },
   "file_extension": ".py",
   "mimetype": "text/x-python",
   "name": "python",
   "nbconvert_exporter": "python",
   "pygments_lexer": "ipython3",
   "version": "3.6.8"
  }
 },
 "nbformat": 4,
 "nbformat_minor": 2
}
